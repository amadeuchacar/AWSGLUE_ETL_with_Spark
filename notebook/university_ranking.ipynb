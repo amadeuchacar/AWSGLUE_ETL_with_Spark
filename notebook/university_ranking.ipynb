{
 "cells": [
  {
   "cell_type": "markdown",
   "id": "0765118e",
   "metadata": {},
   "source": [
    "# ETL com AWS Glue e PySpark\n",
    "Neste projeto, é feito um processo de ETL utilizando o AWS Glue e PySpark.\n",
    "É coletado um arquivo armazenado em um bucket S3, onde este será transformado a fim de ser tratado, utilizando o Glue e PySpark, e, depois, armazenado em um outro bucket S3."
   ]
  },
  {
   "cell_type": "markdown",
   "id": "ec5e4470",
   "metadata": {},
   "source": [
    "## Criando o ambiente (sessões e variáveis de ambiente)\n",
    "É necessário criar a sessão do Spark e do Glue para o funcionamento."
   ]
  },
  {
   "cell_type": "code",
   "execution_count": null,
   "id": "1f6fd21f",
   "metadata": {},
   "outputs": [],
   "source": [
    "import sys\n",
    "from awsglue.transforms import *\n",
    "from awsglue.utils import getResolvedOptions\n",
    "from pyspark.context import SparkContext\n",
    "from awsglue.context import GlueContext\n",
    "from awsglue.job import Job\n",
    "from awsglue.dynamicframe import DynamicFrame\n",
    "from dotenv import load_dotenv\n",
    "import os\n",
    "\n",
    "#cria a sessão do spark\n",
    "sc = SparkContext.getOrCreate()\n",
    "#cria a sessão do glue associada ao spark\n",
    "glueContext = GlueContext(sc)\n",
    "#armazena a sessão na variável 'spark'\n",
    "spark = glueContext.spark_session\n",
    "#armazena o job do glue na variável 'job'\n",
    "job = Job(glueContext)"
   ]
  },
  {
   "cell_type": "code",
   "execution_count": null,
   "id": "fd1f3dd2",
   "metadata": {},
   "outputs": [],
   "source": [
    "#armazena as variáveis de ambiente presentes no arquivo .env\n",
    "load_dotenv()"
   ]
  },
  {
   "cell_type": "code",
   "execution_count": null,
   "id": "50507e8d",
   "metadata": {},
   "outputs": [],
   "source": [
    "#armazena as variáveis de ambiente em variáveis locais\n",
    "database_name = os.environ.get('DATABASE_NAME')\n",
    "table_name = os.environ.get('TABLE_NAME')\n",
    "transformation_ctx = os.environ.get('TRANSFORMATION_CTX')\n",
    "path_destination = os.environ.get('PATH_S3_DESTINATION')"
   ]
  },
  {
   "cell_type": "markdown",
   "id": "72e0690d",
   "metadata": {},
   "source": [
    "## Trabalhando com os dados"
   ]
  },
  {
   "cell_type": "code",
   "execution_count": null,
   "id": "488d6515",
   "metadata": {},
   "outputs": [],
   "source": [
    "#cria um DynamicFrame puxando os dados do catálogo, que foi povoado através de um Crawler\n",
    "university_ranking_source = glueContext.create_dynamic_frame.from_catalog(\n",
    "    database = database_name,\n",
    "    table_name = table_name,\n",
    "    transformation_ctx=transformation_ctx\n",
    ")"
   ]
  },
  {
   "cell_type": "code",
   "execution_count": null,
   "id": "9f94fcc4",
   "metadata": {},
   "outputs": [],
   "source": [
    "#mostra que o DynamicFrame, criado a partir do catálogo do Crawler, está em JSON\n",
    "university_ranking_source.show(5)"
   ]
  },
  {
   "cell_type": "code",
   "execution_count": null,
   "id": "fb38bb98",
   "metadata": {},
   "outputs": [],
   "source": [
    "#para facilitar, esse DynamicFrame é convertido em um DataFrame e armazenado na variável 'rankings_df'\n",
    "rankings_df = university_ranking_source.toDF()"
   ]
  },
  {
   "cell_type": "code",
   "execution_count": null,
   "id": "dcb530ec",
   "metadata": {},
   "outputs": [],
   "source": [
    "#mostra que está no formato DataFrame\n",
    "rankings_df.show(5)"
   ]
  },
  {
   "cell_type": "code",
   "execution_count": null,
   "id": "91e6f9b4",
   "metadata": {},
   "outputs": [],
   "source": [
    "#cria uma view chamada 'university_ranking', para facilitar o trabalho de transformação\n",
    "rankings_df.createOrReplaceTempView(\"university_ranking\")"
   ]
  },
  {
   "cell_type": "code",
   "execution_count": null,
   "id": "6c3be962",
   "metadata": {},
   "outputs": [],
   "source": [
    "#realiza a transformação dos dados utilizando o SQL do Spark e armazena o resultado limpo no DataFrame\n",
    "#chamado 'clean_rankings_df'\n",
    "clean_rankings_df = spark.sql(\"\"\"SELECT \n",
    "    university,\n",
    "    coalesce(int(year),9999) as year,\n",
    "    rank_display,\n",
    "    coalesce(int(split(rank_display,'-')[0]),9999) as n_rank,\n",
    "    coalesce(float(score),-1) as score,\n",
    "    country, city, region, type,\n",
    "    research_output,\n",
    "    coalesce(float(student_faculty_ratio),-1) as student_faculty_ratio,\n",
    "    coalesce(int(regexp_replace(international_students,'[.,]','')),-1) as international_students,\n",
    "    size,\n",
    "    coalesce(int(regexp_replace(faculty_count,'[.,]','')),-1) as faculty_count\n",
    "    FROM university_ranking\"\"\")"
   ]
  },
  {
   "cell_type": "code",
   "execution_count": null,
   "id": "e74d04ae",
   "metadata": {},
   "outputs": [],
   "source": [
    "#retorna os dados limpos para DynamicFrame, utilizando a variável 'clean_dynamic_frame'\n",
    "clean_dynamic_frame = DynamicFrame.fromDF(clean_rankings_df, glueContext, \"university_ranking_clean\")"
   ]
  },
  {
   "cell_type": "markdown",
   "id": "36fe6b35",
   "metadata": {},
   "source": [
    "## Armazenando os dados após tratamento e finalizando"
   ]
  },
  {
   "cell_type": "code",
   "execution_count": null,
   "id": "68243c26",
   "metadata": {},
   "outputs": [],
   "source": [
    "#carrega o DynamicFrame limpo para um bucket S3, em formato .csv\n",
    "university_ranking_destn = glueContext.write_dynamic_frame.from_options(\n",
    "    frame=clean_dynamic_frame,\n",
    "    connection_type=\"s3\",\n",
    "    format=\"csv\",\n",
    "    connection_options={\n",
    "        \"path\": path_destination,\n",
    "        \"partitionKeys\": [],\n",
    "    },\n",
    "    transformation_ctx=\"university_ranking_dest\",\n",
    ")"
   ]
  },
  {
   "cell_type": "code",
   "execution_count": null,
   "id": "ae7018e7",
   "metadata": {},
   "outputs": [],
   "source": [
    "#dá o commit no job do Glue, para que ele armazene que estes dados já foram processados (bookmark)\n",
    "job.commit()"
   ]
  }
 ],
 "metadata": {
  "kernelspec": {
   "display_name": "Python 3",
   "language": "python",
   "name": "python3"
  },
  "language_info": {
   "codemirror_mode": {
    "name": "ipython",
    "version": 3
   },
   "file_extension": ".py",
   "mimetype": "text/x-python",
   "name": "python",
   "nbconvert_exporter": "python",
   "pygments_lexer": "ipython3",
   "version": "3.8.8"
  }
 },
 "nbformat": 4,
 "nbformat_minor": 5
}
